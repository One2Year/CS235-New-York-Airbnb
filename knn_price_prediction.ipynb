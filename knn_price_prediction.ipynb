{
 "cells": [
  {
   "cell_type": "code",
   "execution_count": 3,
   "metadata": {},
   "outputs": [],
   "source": [
    "import pandas as pd\n",
    "import numpy as np\n",
    "import matplotlib.pyplot as plt\n",
    "%matplotlib inline\n",
    "import warnings\n",
    "warnings.filterwarnings('ignore')"
   ]
  },
  {
   "cell_type": "code",
   "execution_count": 4,
   "metadata": {},
   "outputs": [
    {
     "data": {
      "text/html": [
       "<div>\n",
       "<style scoped>\n",
       "    .dataframe tbody tr th:only-of-type {\n",
       "        vertical-align: middle;\n",
       "    }\n",
       "\n",
       "    .dataframe tbody tr th {\n",
       "        vertical-align: top;\n",
       "    }\n",
       "\n",
       "    .dataframe thead th {\n",
       "        text-align: right;\n",
       "    }\n",
       "</style>\n",
       "<table border=\"1\" class=\"dataframe\">\n",
       "  <thead>\n",
       "    <tr style=\"text-align: right;\">\n",
       "      <th></th>\n",
       "      <th>neighbourhood_group</th>\n",
       "      <th>neighbourhood</th>\n",
       "      <th>latitude</th>\n",
       "      <th>longitude</th>\n",
       "      <th>room_type</th>\n",
       "      <th>price</th>\n",
       "      <th>minimum_nights</th>\n",
       "      <th>number_of_reviews</th>\n",
       "      <th>reviews_per_month</th>\n",
       "    </tr>\n",
       "  </thead>\n",
       "  <tbody>\n",
       "    <tr>\n",
       "      <td>0</td>\n",
       "      <td>Brooklyn</td>\n",
       "      <td>Kensington</td>\n",
       "      <td>40.64749</td>\n",
       "      <td>-73.97237</td>\n",
       "      <td>Private room</td>\n",
       "      <td>149</td>\n",
       "      <td>1</td>\n",
       "      <td>9</td>\n",
       "      <td>0.21</td>\n",
       "    </tr>\n",
       "    <tr>\n",
       "      <td>1</td>\n",
       "      <td>Manhattan</td>\n",
       "      <td>Midtown</td>\n",
       "      <td>40.75362</td>\n",
       "      <td>-73.98377</td>\n",
       "      <td>Entire home/apt</td>\n",
       "      <td>225</td>\n",
       "      <td>1</td>\n",
       "      <td>45</td>\n",
       "      <td>0.38</td>\n",
       "    </tr>\n",
       "    <tr>\n",
       "      <td>2</td>\n",
       "      <td>Manhattan</td>\n",
       "      <td>Harlem</td>\n",
       "      <td>40.80902</td>\n",
       "      <td>-73.94190</td>\n",
       "      <td>Private room</td>\n",
       "      <td>150</td>\n",
       "      <td>3</td>\n",
       "      <td>0</td>\n",
       "      <td>NaN</td>\n",
       "    </tr>\n",
       "    <tr>\n",
       "      <td>3</td>\n",
       "      <td>Brooklyn</td>\n",
       "      <td>Clinton Hill</td>\n",
       "      <td>40.68514</td>\n",
       "      <td>-73.95976</td>\n",
       "      <td>Entire home/apt</td>\n",
       "      <td>89</td>\n",
       "      <td>1</td>\n",
       "      <td>270</td>\n",
       "      <td>4.64</td>\n",
       "    </tr>\n",
       "    <tr>\n",
       "      <td>4</td>\n",
       "      <td>Manhattan</td>\n",
       "      <td>East Harlem</td>\n",
       "      <td>40.79851</td>\n",
       "      <td>-73.94399</td>\n",
       "      <td>Entire home/apt</td>\n",
       "      <td>80</td>\n",
       "      <td>10</td>\n",
       "      <td>9</td>\n",
       "      <td>0.10</td>\n",
       "    </tr>\n",
       "  </tbody>\n",
       "</table>\n",
       "</div>"
      ],
      "text/plain": [
       "  neighbourhood_group neighbourhood  latitude  longitude        room_type  \\\n",
       "0            Brooklyn    Kensington  40.64749  -73.97237     Private room   \n",
       "1           Manhattan       Midtown  40.75362  -73.98377  Entire home/apt   \n",
       "2           Manhattan        Harlem  40.80902  -73.94190     Private room   \n",
       "3            Brooklyn  Clinton Hill  40.68514  -73.95976  Entire home/apt   \n",
       "4           Manhattan   East Harlem  40.79851  -73.94399  Entire home/apt   \n",
       "\n",
       "   price  minimum_nights  number_of_reviews  reviews_per_month  \n",
       "0    149               1                  9               0.21  \n",
       "1    225               1                 45               0.38  \n",
       "2    150               3                  0                NaN  \n",
       "3     89               1                270               4.64  \n",
       "4     80              10                  9               0.10  "
      ]
     },
     "execution_count": 4,
     "metadata": {},
     "output_type": "execute_result"
    }
   ],
   "source": [
    "# read data\n",
    "df = pd.read_csv('/Users/LLovemiao/Desktop/CS235-New-York-Airbnb-master/AB_NYC_2019.csv')\n",
    "\n",
    "# chose interesting features\n",
    "v_pool = ['neighbourhood_group', 'neighbourhood', 'latitude', 'longitude', 'room_type', 'price', 'minimum_nights', 'number_of_reviews', 'reviews_per_month']\n",
    "df = df[v_pool]\n",
    "df.head()"
   ]
  },
  {
   "cell_type": "code",
   "execution_count": 8,
   "metadata": {},
   "outputs": [
    {
     "name": "stdout",
     "output_type": "stream",
     "text": [
      "RMSE for the latitude column: 105.51724219292316\n",
      "RMSE for the longitude column: 182.50961180168022\n",
      "RMSE for the minimum_nights column: 103.75538733000808\n",
      "RMSE for the number_of_reviews column: 102.97340821785012\n",
      "RMSE for the reviews_per_month column: 131.25756206786716\n"
     ]
    }
   ],
   "source": [
    "def knnreg(c, feature_col, k = 5):\n",
    "    data = df.copy()\n",
    "    data = data.dropna()\n",
    "    data['distance'] = np.abs(df[feature_col] - c)\n",
    "    data = data.sort_values('distance')\n",
    "    knn = data.iloc[:k]\n",
    "    price_predict = knn['price'].mean()\n",
    "    return price_predict\n",
    "\n",
    "for col in ['latitude', 'longitude', 'minimum_nights', 'number_of_reviews', 'reviews_per_month']:\n",
    "    data = df[:100].copy()\n",
    "    data['predicted_price'] = data[col].apply(knnreg, feature_col = col, k = 5)\n",
    "    data['squared_error'] = (data['price'] - data['predicted_price'])**2\n",
    "    mse = data['squared_error'].mean()\n",
    "    rmse = mse**0.5\n",
    "    print(\"RMSE for the {} column: {}\".format(col, rmse))"
   ]
  },
  {
   "cell_type": "code",
   "execution_count": 9,
   "metadata": {},
   "outputs": [],
   "source": [
    "from sklearn import preprocessing\n",
    "cols = ['latitude', 'longitude', 'price', 'minimum_nights', 'number_of_reviews', 'reviews_per_month']\n",
    "data = df[cols].copy()\n",
    "data = data.dropna()\n",
    "\n",
    "# Scramble the data into three groups\n",
    "data_shuffle = data.sample(frac = 1, random_state=0)\n",
    "n1 = int(len(data)*(0.8))\n",
    "n2 = int(len(data)*(0.9))\n",
    "\n",
    "data_train = data_shuffle[:n1]\n",
    "data_test1 = data_shuffle[n1:n2]\n",
    "data_test2 = data_shuffle[n2:]\n",
    "\n",
    "scaler = preprocessing.StandardScaler().fit(data_train)\n",
    "data_norm_train = pd.DataFrame(scaler.transform(data_train), columns = cols)\n",
    "data_norm_test1 = pd.DataFrame(scaler.transform(data_test1), columns = cols)\n",
    "data_norm_test2 = pd.DataFrame(scaler.transform(data_test2), columns = cols)"
   ]
  },
  {
   "cell_type": "code",
   "execution_count": 10,
   "metadata": {},
   "outputs": [],
   "source": [
    "from sklearn.neighbors import KNeighborsRegressor\n",
    "factors = ['latitude', 'longitude', 'minimum_nights', 'number_of_reviews', 'reviews_per_month']\n",
    "target = ['price']\n",
    "knn_reg = KNeighborsRegressor(n_neighbors=5)\n",
    "knn_reg.fit(data_norm_train[factors], data_norm_train[target])\n",
    "\n",
    "data_norm_train['predict_price'] = knn_reg.predict(data_norm_train[factors])\n",
    "data_norm_test1['predict_price'] = knn_reg.predict(data_norm_test1[factors])\n",
    "data_norm_test2['predict_price'] = knn_reg.predict(data_norm_test2[factors])"
   ]
  },
  {
   "cell_type": "code",
   "execution_count": 11,
   "metadata": {},
   "outputs": [
    {
     "name": "stdout",
     "output_type": "stream",
     "text": [
      "RMSE pf the training data: 0.84\n",
      "RMSE pf the test data1: 1.27\n",
      "RMSE pf the test data2: 0.96\n"
     ]
    }
   ],
   "source": [
    "from sklearn.metrics import mean_squared_error\n",
    "rmse1 = mean_squared_error(data_norm_train[target], data_norm_train['predict_price'])**0.5\n",
    "print('RMSE pf the training data: %.2f' %rmse1)\n",
    "rmse2 = mean_squared_error(data_norm_test1[target], data_norm_test1['predict_price'])**0.5\n",
    "print('RMSE pf the test data1: %.2f' %rmse2)\n",
    "rmse3 = mean_squared_error(data_norm_test2[target], data_norm_test2['predict_price'])**0.5\n",
    "print('RMSE pf the test data2: %.2f' %rmse3)"
   ]
  },
  {
   "cell_type": "code",
   "execution_count": 12,
   "metadata": {},
   "outputs": [],
   "source": [
    "lst_rmse_train = []\n",
    "lst_rmse_test1 = []\n",
    "lst_rmse_test2 = []\n",
    "for i in range(2, 40):\n",
    "    knn_reg = KNeighborsRegressor(n_neighbors=i)\n",
    "    knn_reg.fit(data_norm_train[factors], data_norm_train[target])\n",
    "    data_norm_train['predict_price'] = knn_reg.predict(data_norm_train[factors])\n",
    "    data_norm_test1['predict_price'] = knn_reg.predict(data_norm_test1[factors])\n",
    "    data_norm_test2['predict_price'] = knn_reg.predict(data_norm_test2[factors])\n",
    "    \n",
    "    rmse1 = mean_squared_error(data_norm_train[target], data_norm_train['predict_price'])**0.5\n",
    "    rmse2 = mean_squared_error(data_norm_test1[target], data_norm_test1['predict_price'])**0.5\n",
    "    rmse3 = mean_squared_error(data_norm_test2[target], data_norm_test2['predict_price'])**0.5\n",
    "\n",
    "    lst_rmse_train.append(rmse1)\n",
    "    lst_rmse_test1.append(rmse2)\n",
    "    lst_rmse_test2.append(rmse3)"
   ]
  },
  {
   "cell_type": "code",
   "execution_count": 16,
   "metadata": {},
   "outputs": [
    {
     "data": {
      "text/plain": [
       "Text(0, 0.5, 'RMSE')"
      ]
     },
     "execution_count": 16,
     "metadata": {},
     "output_type": "execute_result"
    },
    {
     "data": {
      "image/png": "[encoded data removed]",
      "text/plain": [
       "<Figure size 432x288 with 1 Axes>"
      ]
     },
     "metadata": {
      "needs_background": "light"
     },
     "output_type": "display_data"
    }
   ],
   "source": [
    "import matplotlib.style as psl\n",
    "psl.use('bmh')\n",
    "plt.plot(lst_rmse_train, linestyle = '-', marker = 'd')\n",
    "plt.plot(lst_rmse_test1, linestyle = '--', marker = 'x', alpha = 0.4)\n",
    "plt.plot(lst_rmse_test2, linestyle = '--', marker = 'x', alpha = 1)\n",
    "plt.title(\"How RMSE changes with k\")\n",
    "plt.xlabel(\"K\")\n",
    "plt.ylabel(\"RMSE\")"
   ]
  },
  {
   "cell_type": "code",
   "execution_count": 15,
   "metadata": {},
   "outputs": [
    {
     "name": "stdout",
     "output_type": "stream",
     "text": [
      "\n",
      " predict my house rent price, here are my house attributes:\n",
      "     latitude : 40.76404\n",
      "     longitude : -73.98933\n",
      "     minimum_nights : 7.0\n",
      "     number_of_reviews : 0.0\n",
      "     reviews_per_month : 0.0\n",
      "predicted price is :  76.12714891333094\n"
     ]
    }
   ],
   "source": [
    "my = np.array([40.76404, -73.98933, 7, 0, 0, 9999]).reshape(1, -1)\n",
    "a = pd.DataFrame(scaler.transform(my), columns = cols)\n",
    "a = a.drop('price', axis = 1)\n",
    "predicted_price_scaled = knn_reg.predict(a)\n",
    "\n",
    "mu = data_train['price'].describe()['mean']\n",
    "std = data_train['price'].describe()['std']\n",
    "predicted_price_dollar = predicted_price_scaled*std + mu\n",
    "print('\\n predict my house rent price, here are my house attributes:')\n",
    "for i in range(len(factors)):\n",
    "    print('    ', factors[i], ':', my[0][i])\n",
    "print('predicted price is : ', float(predicted_price_dollar))"
   ]
  },
  {
   "cell_type": "code",
   "execution_count": null,
   "metadata": {},
   "outputs": [],
   "source": []
  }
 ],
 "metadata": {
  "kernelspec": {
   "display_name": "Python 3",
   "language": "python",
   "name": "python3"
  },
  "language_info": {
   "codemirror_mode": {
    "name": "ipython",
    "version": 3
   },
   "file_extension": ".py",
   "mimetype": "text/x-python",
   "name": "python",
   "nbconvert_exporter": "python",
   "pygments_lexer": "ipython3",
   "version": "3.7.4"
  }
 },
 "nbformat": 4,
 "nbformat_minor": 2
}
